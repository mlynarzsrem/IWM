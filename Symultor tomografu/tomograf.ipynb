{
 "cells": [
  {
   "cell_type": "code",
   "execution_count": 2,
   "metadata": {},
   "outputs": [],
   "source": [
    "#libraries\n",
    "%matplotlib inline\n",
    "import numpy as np\n",
    "import cv2\n",
    "from matplotlib import pyplot as plt\n",
    "import math\n",
    "from __future__ import print_function\n",
    "from ipywidgets import interact, interactive, fixed, interact_manual\n",
    "from matplotlib import pyplot as plt\n",
    "from matplotlib.lines import Line2D\n",
    "import ipywidgets as widgets"
   ]
  },
  {
   "cell_type": "code",
   "execution_count": null,
   "metadata": {},
   "outputs": [],
   "source": []
  },
  {
   "cell_type": "code",
   "execution_count": 4,
   "metadata": {},
   "outputs": [
    {
     "data": {
      "image/png": "[encoded data removed]",
      "text/plain": [
       "<matplotlib.figure.Figure at 0x8a74cf0>"
      ]
     },
     "metadata": {},
     "output_type": "display_data"
    }
   ],
   "source": [
    "# Load an color image in grayscale\n",
    "img = cv2.imread('dot2.png',0)\n",
    "img =255- img \n",
    "plt.imshow(img,cmap='gray')\n",
    "plt.show()"
   ]
  },
  {
   "cell_type": "code",
   "execution_count": 5,
   "metadata": {},
   "outputs": [],
   "source": [
    "def getRadians(angle):\n",
    "    return (angle*math.pi)/180\n",
    "def getBegining(x0,y0,radius,angle_rad):\n",
    "    beginX = x0 + radius*math.sin(angle_rad)\n",
    "    beginY= y0 +radius*math.cos(angle_rad)\n",
    "    return beginX,beginY\n",
    "def getEndPoint(x0,y0,alpha,angle,radius,subst=0):\n",
    "    angle_rad= getRadians(angle + 180 + alpha - subst)\n",
    "    X = x0 + radius*math.sin(angle_rad)\n",
    "    Y= y0 +radius*math.cos(angle_rad)\n",
    "    return X,Y"
   ]
  },
  {
   "cell_type": "code",
   "execution_count": 6,
   "metadata": {},
   "outputs": [
    {
     "data": {
      "application/vnd.jupyter.widget-view+json": {
       "model_id": "0243fc8031e343aa87848d40c0141e09",
       "version_major": 2,
       "version_minor": 0
      },
      "text/html": [
       "<p>Failed to display Jupyter Widget of type <code>interactive</code>.</p>\n",
       "<p>\n",
       "  If you're reading this message in the Jupyter Notebook or JupyterLab Notebook, it may mean\n",
       "  that the widgets JavaScript is still loading. If this message persists, it\n",
       "  likely means that the widgets JavaScript library is either not installed or\n",
       "  not enabled. See the <a href=\"https://ipywidgets.readthedocs.io/en/stable/user_install.html\">Jupyter\n",
       "  Widgets Documentation</a> for setup instructions.\n",
       "</p>\n",
       "<p>\n",
       "  If you're reading this message in another frontend (for example, a static\n",
       "  rendering on GitHub or <a href=\"https://nbviewer.jupyter.org/\">NBViewer</a>),\n",
       "  it may mean that your frontend doesn't currently support widgets.\n",
       "</p>\n"
      ],
      "text/plain": [
       "interactive(children=(IntSlider(value=50, description='n', min=1), IntSlider(value=179, description='alpha', max=359), IntSlider(value=89, description='l', max=179), Output()), _dom_classes=('widget-interact',))"
      ]
     },
     "metadata": {},
     "output_type": "display_data"
    }
   ],
   "source": [
    "def drawCircle(x0,y0,radius,ax):\n",
    "    circle=plt.Circle((x0, y0),radius=radius,fill=False)\n",
    "    ax.add_artist(circle)    \n",
    "\n",
    "def drawLines(x0,y0,alpha,radius,n,l,ax):\n",
    "    #Distance between detectors\n",
    "    if(n>1):\n",
    "        detectorDelta = float(2*l)/(n-1)\n",
    "    else:\n",
    "        detectorDelta=0\n",
    "        l = 0\n",
    "    #the emmiter\n",
    "    beginX,beginY = getBegining(x0,y0,radius,getRadians(alpha))\n",
    "    for i in range(n):\n",
    "        endX,endY=getEndPoint(x0,y0,alpha,l,radius,i*detectorDelta)\n",
    "        line = plt.Line2D([beginX,endX],[beginY,endY])\n",
    "        ax.add_artist(line)\n",
    "    \n",
    "def func(n,alpha,l):\n",
    "    x0 =0.5; y0=0.5 ; radius =0.4\n",
    "    plt.figure(figsize=(8,8))\n",
    "    ax=plt.subplot(aspect='equal')\n",
    "    drawCircle(x0,y0,radius,ax)\n",
    "    drawLines(x0,y0,alpha,radius,n,l,ax)\n",
    "    plt.show()\n",
    "interact(func,n=(1,100),alpha =(0,359),l=(0,179));"
   ]
  },
  {
   "cell_type": "code",
   "execution_count": 7,
   "metadata": {},
   "outputs": [],
   "source": [
    "def getAB(x1,y1,x2,y2):\n",
    "    a = np.array([[x1,1],[x2,1]])\n",
    "    b = np.array([y1,y2])\n",
    "    try:\n",
    "        x = np.linalg.solve(a, b)\n",
    "    except np.linalg.LinAlgError:\n",
    "        return str(x2)\n",
    "    return x\n",
    "\n",
    "def getLines(x0,y0,alpha,radius,n,l):\n",
    "    lines = []\n",
    "    if(n>1):\n",
    "        detectorDelta = float(2*l)/(n-1)\n",
    "    else:\n",
    "        detectorDelta=0\n",
    "        l = 0\n",
    "    bX,bY = getBegining(x0,y0,radius,getRadians(alpha))\n",
    "    for i in range(n):\n",
    "        eX,eY=getEndPoint(x0,y0,alpha,l,radius,i*detectorDelta)\n",
    "        if(eX!=bX and eY!=bY):\n",
    "            lines.append(getAB(bX,bY,eX,eY))\n",
    "    return lines\n",
    "def getSum(img,line):\n",
    "    xDim = img.shape[0]\n",
    "    yDim = img.shape[1]\n",
    "    nPix = 0\n",
    "    detSum = 0\n",
    "    if isinstance(line, str):\n",
    "        xValue = float(line)\n",
    "        xLeft = math.floor(xValue)\n",
    "        xRight = math.ceil(xValue)\n",
    "        if(abs(xValue-xRight)>abs(xValue-xLeft)):\n",
    "            xValue = xLeft\n",
    "        else:\n",
    "            xValue = xRight\n",
    "        for y in range(yDim):\n",
    "            detSum += img[xValue,y]\n",
    "        return detSum / xDim\n",
    "            \n",
    "    a = line[0]\n",
    "    b = line[1]\n",
    "    #for x in range(xDim):\n",
    "    #    yValue = a*x + b\n",
    "    #    yDown = math.floor(yValue)\n",
    "    #    yUp = math.ceil(yValue)\n",
    "    #    if(abs(yValue-yUp)>abs(yValue-yDown)):\n",
    "    #        if(0<=yDown<yDim):\n",
    "    #            detSum += img[x,yDown]\n",
    "    #    else:\n",
    "    #        if(0<=yUp<yDim):\n",
    "    #            detSum += img[x,yUp]\n",
    "    if(-1 <= a <= 1):\n",
    "        for x in range(xDim):\n",
    "            yValue = a*x + b\n",
    "            yDown = math.floor(yValue)\n",
    "            yUp = math.ceil(yValue)\n",
    "            if(abs(yValue-yUp)>abs(yValue-yDown)):\n",
    "                if(0<=yDown<yDim):\n",
    "                    detSum += img[x,yDown]\n",
    "                    nPix += 1\n",
    "            else:\n",
    "                if(0<=yUp<yDim):\n",
    "                    detSum += img[x,yUp]\n",
    "                    nPix += 1\n",
    "    else:\n",
    "        for y in range(yDim):\n",
    "            xValue = (y - b) / a\n",
    "            xLeft = math.floor(xValue)\n",
    "            xRight = math.ceil(xValue)\n",
    "            if(abs(xValue-xRight)>abs(xValue-xLeft)):\n",
    "                if(0<=xLeft<xDim):\n",
    "                    detSum += img[xLeft,y]\n",
    "                    nPix += 1\n",
    "            else:\n",
    "                if(0<=xRight<xDim):\n",
    "                    detSum += img[xRight,y]\n",
    "                    nPix += 1\n",
    "    if(nPix == 0):\n",
    "        return 0\n",
    "    else:\n",
    "        return detSum/nPix"
   ]
  },
  {
   "cell_type": "code",
   "execution_count": 8,
   "metadata": {},
   "outputs": [
    {
     "data": {
      "image/png": "[encoded data removed]",
      "text/plain": [
       "<matplotlib.figure.Figure at 0x8e0c0d0>"
      ]
     },
     "metadata": {},
     "output_type": "display_data"
    }
   ],
   "source": [
    "def drawSinogram(n,l_angle):\n",
    "    sinogram =np.zeros(shape=(360,n))\n",
    "    x0 = math.floor(img.shape[0]/2)\n",
    "    y0 = math.floor(img.shape[1]/2)\n",
    "    radius = (img.shape[0]*math.sqrt(2))/2\n",
    "    for alpha in range(360):\n",
    "        lines = getLines(x0,y0,alpha,radius,n,l_angle)\n",
    "        for y in range(len(lines)):\n",
    "            sinogram[alpha,y]=getSum(img,lines[y])\n",
    "    plt.imshow(sinogram,cmap='gray')\n",
    "    plt.show()\n",
    "    return sinogram\n",
    "sg =drawSinogram(360,100)\n",
    "#interact(drawSinogram,n=(1,100),l_angle=(0,179));"
   ]
  },
  {
   "cell_type": "code",
   "execution_count": null,
   "metadata": {},
   "outputs": [],
   "source": []
  },
  {
   "cell_type": "code",
   "execution_count": 9,
   "metadata": {},
   "outputs": [
    {
     "name": "stdout",
     "output_type": "stream",
     "text": [
      "[[ 6.65673641  5.03375666  1.70538845 ...,  1.70331967  5.02747125\n",
      "   6.64830315]\n",
      " [ 5.03375666  5.0643865   3.38962789 ...,  3.38798077  5.05938584\n",
      "   5.02747125]\n",
      " [ 1.70538845  3.38962789  5.06326646 ...,  5.06331258  3.38798077\n",
      "   1.70331967]\n",
      " ..., \n",
      " [ 1.70567835  3.3920788   5.06884031 ...,  5.07048743  3.39468784\n",
      "   1.70810291]\n",
      " [ 5.03465269  5.06620492  3.3920788  ...,  3.39468784  5.07235856\n",
      "   5.04192637]\n",
      " [ 6.65794869  5.03465269  1.70567835 ...,  1.70810291  5.04192637\n",
      "   6.66764693]]\n"
     ]
    },
    {
     "data": {
      "image/png": "[encoded data removed]",
      "text/plain": [
       "<matplotlib.figure.Figure at 0x8e0ced0>"
      ]
     },
     "metadata": {},
     "output_type": "display_data"
    }
   ],
   "source": [
    "def drawLineOnImage(image,line,value):\n",
    "    xDim = img.shape[0]\n",
    "    yDim = img.shape[1]\n",
    "    a = line[0]\n",
    "    b = line[1]\n",
    "    if isinstance(line, str):\n",
    "        xValue = float(line)\n",
    "        xLeft = math.floor(xValue)\n",
    "        xRight = math.ceil(xValue)\n",
    "        if(abs(xValue-xRight)>abs(xValue-xLeft)):\n",
    "            xValue = xLeft\n",
    "        else:\n",
    "            xValue = xRight\n",
    "        for y in range(yDim):\n",
    "            image[xValue,y] += value\n",
    "        return image\n",
    "    if(-1 <= a <= 1):\n",
    "        for x in range(xDim):\n",
    "            yValue = a*x + b\n",
    "            yDown = math.floor(yValue)\n",
    "            yUp = math.ceil(yValue)\n",
    "            if(abs(yValue-yUp)>abs(yValue-yDown)):\n",
    "                if(0<=yDown<yDim):\n",
    "                    image[x,yDown] += value\n",
    "            else:\n",
    "                if(0<=yUp<yDim):\n",
    "                    image[x,yUp] +=value\n",
    "    else:\n",
    "        for y in range(yDim):\n",
    "            xValue = (y - b) / a\n",
    "            xLeft = math.floor(xValue)\n",
    "            xRight = math.ceil(xValue)\n",
    "            if(abs(xValue-xRight)>abs(xValue-xLeft)):\n",
    "                if(0<=xLeft<xDim):\n",
    "                    image[xLeft,y] += value\n",
    "            else:\n",
    "                if(0<=xRight<xDim):\n",
    "                    image[xRight,y] += value\n",
    "        \n",
    "    return image\n",
    "def getImageFromSinogram(sinogram,n,l_angle):\n",
    "    x0 = math.floor(img.shape[0]/2)\n",
    "    y0 = math.floor(img.shape[1]/2)\n",
    "    outputImage =np.zeros(shape=(img.shape[0],img.shape[1]))\n",
    "    radius = (img.shape[0]*math.sqrt(2))/2\n",
    "    for alpha in range(360):\n",
    "        lines = getLines(x0,y0,alpha,radius,n,l_angle)\n",
    "        for y in range(len(lines)):\n",
    "            outputImage = drawLineOnImage(outputImage,lines[y],sinogram[alpha,y])\n",
    "    outputImage[outputImage<256]=0\n",
    "    outputImage = np.divide(outputImage,np.amax(outputImage))*255\n",
    "    outputImage = cv2.GaussianBlur(outputImage,(3,3),0)\n",
    "    outputImage = np.divide(outputImage,np.amax(outputImage))*255\n",
    "    \n",
    "    print(outputImage)\n",
    "    plt.imshow(outputImage,cmap='gray')\n",
    "    plt.show()\n",
    "getImageFromSinogram(sg,360,100)\n"
   ]
  },
  {
   "cell_type": "code",
   "execution_count": null,
   "metadata": {},
   "outputs": [],
   "source": []
  }
 ],
 "metadata": {
  "kernelspec": {
   "display_name": "Python 3",
   "language": "python",
   "name": "python3"
  },
  "language_info": {
   "codemirror_mode": {
    "name": "ipython",
    "version": 3
   },
   "file_extension": ".py",
   "mimetype": "text/x-python",
   "name": "python",
   "nbconvert_exporter": "python",
   "pygments_lexer": "ipython3",
   "version": "3.6.3"
  }
 },
 "nbformat": 4,
 "nbformat_minor": 2
}

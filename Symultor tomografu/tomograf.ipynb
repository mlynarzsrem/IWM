{
 "cells": [
  {
   "cell_type": "code",
   "execution_count": 26,
   "metadata": {},
   "outputs": [],
   "source": [
    "#libraries\n",
    "%matplotlib inline\n",
    "import numpy as np\n",
    "import cv2\n",
    "from matplotlib import pyplot as plt\n",
    "import math\n",
    "from __future__ import print_function\n",
    "from ipywidgets import interact, interactive, fixed, interact_manual\n",
    "from matplotlib import pyplot as plt\n",
    "from matplotlib.lines import Line2D\n",
    "import ipywidgets as widgets"
   ]
  },
  {
   "cell_type": "code",
   "execution_count": 27,
   "metadata": {},
   "outputs": [
    {
     "data": {
      "image/png": "[encoded data removed]",
      "text/plain": [
       "<matplotlib.figure.Figure at 0x12e97f4dc88>"
      ]
     },
     "metadata": {},
     "output_type": "display_data"
    }
   ],
   "source": [
    "# Load an color image in grayscale\n",
    "img = cv2.imread('test2.jpg',0)\n",
    "plt.imshow(img,cmap='gray')\n",
    "plt.show()"
   ]
  },
  {
   "cell_type": "code",
   "execution_count": 28,
   "metadata": {},
   "outputs": [],
   "source": [
    "def getRadians(angle):\n",
    "    return (angle*math.pi)/180\n",
    "def getBegining(x0,y0,radius,angle_rad):\n",
    "    beginX = x0 + radius*math.sin(angle_rad)\n",
    "    beginY= y0 +radius*math.cos(angle_rad)\n",
    "    return beginX,beginY\n",
    "def getEndPoint2(x0,y0,alpha,angle,radius,subst=0):\n",
    "    angle_rad= getRadians(angle + 180 + alpha - subst)\n",
    "    X = x0 + radius*math.sin(angle_rad)\n",
    "    Y= y0 +radius*math.cos(angle_rad)\n",
    "    return X,Y"
   ]
  },
  {
   "cell_type": "code",
   "execution_count": 55,
   "metadata": {},
   "outputs": [
    {
     "data": {
      "application/vnd.jupyter.widget-view+json": {
       "model_id": "f1d80bba8f464ab4bd7adc8cb43d7df9",
       "version_major": 2,
       "version_minor": 0
      },
      "text/html": [
       "<p>Failed to display Jupyter Widget of type <code>interactive</code>.</p>\n",
       "<p>\n",
       "  If you're reading this message in the Jupyter Notebook or JupyterLab Notebook, it may mean\n",
       "  that the widgets JavaScript is still loading. If this message persists, it\n",
       "  likely means that the widgets JavaScript library is either not installed or\n",
       "  not enabled. See the <a href=\"https://ipywidgets.readthedocs.io/en/stable/user_install.html\">Jupyter\n",
       "  Widgets Documentation</a> for setup instructions.\n",
       "</p>\n",
       "<p>\n",
       "  If you're reading this message in another frontend (for example, a static\n",
       "  rendering on GitHub or <a href=\"https://nbviewer.jupyter.org/\">NBViewer</a>),\n",
       "  it may mean that your frontend doesn't currently support widgets.\n",
       "</p>\n"
      ],
      "text/plain": [
       "interactive(children=(IntSlider(value=50, description='n', min=1), IntSlider(value=179, description='alpha', max=359), IntSlider(value=89, description='l', max=179), Output()), _dom_classes=('widget-interact',))"
      ]
     },
     "metadata": {},
     "output_type": "display_data"
    }
   ],
   "source": [
    "def drawCircle(x0,y0,radius,ax):\n",
    "    circle=plt.Circle((x0, y0),radius=radius,fill=False)\n",
    "    ax.add_artist(circle)    \n",
    "\n",
    "def drawLines(x0,y0,alpha,radius,n,l,ax):\n",
    "    #Odległosc miedzy detektotami\n",
    "    if(n>1):\n",
    "        detectorDelta = float(2*l)/(n-1)\n",
    "    else:\n",
    "        detectorDelta=0\n",
    "        l = 0\n",
    "    beginX,beginY = getBegining(x0,y0,radius,getRadians(alpha))\n",
    "    for i in range(n):\n",
    "        endX,endY=getEndPoint2(x0,y0,alpha,l,radius,i*detectorDelta)\n",
    "        line = plt.Line2D([beginX,endX],[beginY,endY])\n",
    "        ax.add_artist(line)\n",
    "    \n",
    "def func(n,alpha,l):\n",
    "    x0 =0.5; y0=0.5 ; radius =0.4\n",
    "    plt.figure(figsize=(8,8))\n",
    "    ax=plt.subplot(aspect='equal')\n",
    "    drawCircle(x0,y0,radius,ax)\n",
    "    drawLines(x0,y0,alpha,radius,n,l,ax)\n",
    "    plt.show()\n",
    "interact(func,n=(1,100),alpha =(0,359),l=(0,179));"
   ]
  },
  {
   "cell_type": "code",
   "execution_count": 52,
   "metadata": {},
   "outputs": [],
   "source": [
    "def getAB(x1,y1,x2,y2):\n",
    "    a = np.array([[x1,1],[x2,1]])\n",
    "    b = np.array([y1,y2])\n",
    "    return np.linalg.solve(a, b)\n",
    "def getLines(x0,y0,alpha,radius,n,l):\n",
    "    lines = []\n",
    "    if(n>1):\n",
    "        detectorDelta = float(2*l)/(n-1)\n",
    "    else:\n",
    "        detectorDelta=0\n",
    "        l = 0\n",
    "    bX,bY = getBegining(x0,y0,radius,getRadians(alpha))\n",
    "    for i in range(n):\n",
    "        eX,eY=getEndPoint2(x0,y0,alpha,l,radius,i*detectorDelta)\n",
    "        lines.append(getAB(bX,bY,eX,eY))\n",
    "    return lines\n",
    "def getSum(img,line):\n",
    "    xDim = img.shape[0]\n",
    "    yDim = img.shape[1]\n",
    "    a = line[0]\n",
    "    b = line[1]\n",
    "    detSum = 0\n",
    "    for x in range(xDim):\n",
    "        yValue = a*x + b\n",
    "        yDown = math.floor(yValue)\n",
    "        yUp = math.ceil(yValue)\n",
    "        if(abs(yValue-yUp)>abs(yValue-yDown)):\n",
    "            if(0<=yDown<yDim):\n",
    "                detSum += img[x,yDown]\n",
    "        else:\n",
    "            if(0<=yUp<yDim):\n",
    "                detSum += img[x,yDown]\n",
    "    return detSum"
   ]
  },
  {
   "cell_type": "code",
   "execution_count": 60,
   "metadata": {},
   "outputs": [
    {
     "data": {
      "application/vnd.jupyter.widget-view+json": {
       "model_id": "40cec82d9873480987698cf8b1d89c7b",
       "version_major": 2,
       "version_minor": 0
      },
      "text/html": [
       "<p>Failed to display Jupyter Widget of type <code>interactive</code>.</p>\n",
       "<p>\n",
       "  If you're reading this message in the Jupyter Notebook or JupyterLab Notebook, it may mean\n",
       "  that the widgets JavaScript is still loading. If this message persists, it\n",
       "  likely means that the widgets JavaScript library is either not installed or\n",
       "  not enabled. See the <a href=\"https://ipywidgets.readthedocs.io/en/stable/user_install.html\">Jupyter\n",
       "  Widgets Documentation</a> for setup instructions.\n",
       "</p>\n",
       "<p>\n",
       "  If you're reading this message in another frontend (for example, a static\n",
       "  rendering on GitHub or <a href=\"https://nbviewer.jupyter.org/\">NBViewer</a>),\n",
       "  it may mean that your frontend doesn't currently support widgets.\n",
       "</p>\n"
      ],
      "text/plain": [
       "interactive(children=(IntSlider(value=50, description='n', min=1), IntSlider(value=89, description='l_angle', max=179), Output()), _dom_classes=('widget-interact',))"
      ]
     },
     "metadata": {},
     "output_type": "display_data"
    }
   ],
   "source": [
    "def drawSinogram(n,l_angle):\n",
    "    sinogram =np.zeros(shape=(365,n))\n",
    "    x0 = math.floor(img.shape[0]/2)\n",
    "    y0 = math.floor(img.shape[1]/2)\n",
    "    radius = (img.shape[0]*math.sqrt(2))/2\n",
    "    for alpha in range(360):\n",
    "        lines = getLines(x0,y0,alpha,radius,n,l_angle)\n",
    "        for y in range(len(lines)):\n",
    "            sinogram[alpha,y]=getSum(img,lines[y])\n",
    "    plt.imshow(sinogram,cmap='gray')\n",
    "    plt.show()\n",
    "interact(drawSinogram,n=(1,100),l_angle=(0,179));"
   ]
  }
 ],
 "metadata": {
  "kernelspec": {
   "display_name": "Python 3",
   "language": "python",
   "name": "python3"
  },
  "language_info": {
   "codemirror_mode": {
    "name": "ipython",
    "version": 3
   },
   "file_extension": ".py",
   "mimetype": "text/x-python",
   "name": "python",
   "nbconvert_exporter": "python",
   "pygments_lexer": "ipython3",
   "version": "3.6.4"
  }
 },
 "nbformat": 4,
 "nbformat_minor": 2
}
